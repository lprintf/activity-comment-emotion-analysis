{
 "cells": [
  {
   "cell_type": "code",
   "execution_count": 1,
   "metadata": {},
   "outputs": [],
   "source": [
    "import pandas\n",
    "import torch"
   ]
  },
  {
   "cell_type": "code",
   "execution_count": 2,
   "metadata": {},
   "outputs": [],
   "source": [
    "device = torch.device(\"cuda:0\" if torch.cuda.is_available() else \"cpu\")"
   ]
  },
  {
   "cell_type": "code",
   "execution_count": 3,
   "metadata": {},
   "outputs": [],
   "source": [
    "raw_data=pandas.read_excel('data/comment_20211212.xlsx')"
   ]
  },
  {
   "cell_type": "code",
   "execution_count": 4,
   "metadata": {},
   "outputs": [],
   "source": [
    "raw_sample=raw_data.head(10)"
   ]
  },
  {
   "cell_type": "code",
   "execution_count": 5,
   "metadata": {},
   "outputs": [],
   "source": [
    "model=torch.load('module/bert/epoch2_0.14327293808408384_0.9603448275862069_0.9611486486486487.full')"
   ]
  },
  {
   "cell_type": "code",
   "execution_count": 6,
   "metadata": {},
   "outputs": [
    {
     "data": {
      "text/plain": [
       "<torch.autograd.grad_mode.no_grad at 0x7fea63e6d810>"
      ]
     },
     "execution_count": 6,
     "metadata": {},
     "output_type": "execute_result"
    }
   ],
   "source": [
    "torch.no_grad()"
   ]
  },
  {
   "cell_type": "code",
   "execution_count": 7,
   "metadata": {},
   "outputs": [],
   "source": [
    "from transformers import BertTokenizer\n",
    "pretrained_model_name='bert-base-chinese'\n",
    "tokenizer = BertTokenizer.from_pretrained(pretrained_model_name,\n",
    "                max_length=100,\n",
    "                add_special_tokens=True,\n",
    "                truncation=True,\n",
    "                padding=True,\n",
    "                return_tensors=\"pt\",)"
   ]
  },
  {
   "cell_type": "code",
   "execution_count": 8,
   "metadata": {},
   "outputs": [
    {
     "data": {
      "text/plain": [
       "tensor([0, 1, 0, 1, 1, 2], device='cuda:0')"
      ]
     },
     "execution_count": 8,
     "metadata": {},
     "output_type": "execute_result"
    }
   ],
   "source": [
    "\n",
    "token=tokenizer(['颜色不好看','特别特别的不好','外观丑','不好用','不实用','服务态度差'],\n",
    "                max_length=100,\n",
    "                add_special_tokens=True,\n",
    "                truncation=True,\n",
    "                padding=True,return_tensors=\"pt\")\n",
    "token.to(device)\n",
    "output=model(\n",
    "    **token\n",
    "    )\n",
    "output[0].argmax(dim=1)"
   ]
  },
  {
   "cell_type": "code",
   "execution_count": 9,
   "metadata": {},
   "outputs": [
    {
     "name": "stdout",
     "output_type": "stream",
     "text": [
      "apprence:颜色不好看\n",
      "\n",
      "function:特别特别的不好\n",
      "\n",
      "apprence:外观丑\n",
      "\n",
      "function:不好用\n",
      "\n",
      "function:不实用\n",
      "\n",
      "service:服务态度差\n",
      "\n"
     ]
    }
   ],
   "source": [
    "class_dict=[\n",
    "    lambda x:f\"apprence:{x}\\n\",\n",
    "    lambda x:f\"function:{x}\\n\",\n",
    "    lambda x:f\"service:{x}\\n\",\n",
    "    ]\n",
    "for x,y in zip(['颜色不好看','特别特别的不好','外观丑','不好用','不实用','服务态度差'],output[0].argmax(dim=1).cpu()):\n",
    "    print(class_dict[y](x))"
   ]
  },
  {
   "cell_type": "code",
   "execution_count": 10,
   "metadata": {},
   "outputs": [
    {
     "data": {
      "text/plain": [
       "['产品质感：轻盈不油腻\\n', '产品颜色：很正。', '持久效果：一般 ', '还行?']"
      ]
     },
     "execution_count": 10,
     "metadata": {},
     "output_type": "execute_result"
    }
   ],
   "source": [
    "import re\n",
    "\n",
    "partten = re.compile(\n",
    "    \"\".join([\"(.*?[\", \"?\", \"!\", \"？\", \"！\", \"。\", \"…\", \"\\n\", \" \", \"]|.+?$)\"])\n",
    ")\n",
    "partten.findall(\"产品质感：轻盈不油腻\\n产品颜色：很正。持久效果：一般 还行?\")\n"
   ]
  },
  {
   "cell_type": "code",
   "execution_count": 11,
   "metadata": {},
   "outputs": [
    {
     "name": "stdout",
     "output_type": "stream",
     "text": [
      "function:滋润效果：效果很好用原来很好看\n",
      "\n",
      "apprence:颜色太深了，不太适合我，送人了\n",
      "\n",
      "function:产品质感：老婆特喜欢，这个颜色适合很多性格的女人，方便携带，作为携带补妆最合适。\n",
      "\n",
      "service:宝贝q收到就迫不及待打开，包装很安全，还送了钥匙链，礼品盒，礼品袋，卖家考虑的很周全，送人很大气，不过我是自己用的。\n",
      "\n",
      "function:，打开口红有淡淡香味，上唇试了，图一是薄图，图二是半厚图半薄图，颜色个人比较满意，喜欢的宝宝可以果断下哦手，用的其他品牌的都是正装量，用不完过期挺可以的，迷你装的够用不用担心用不完！\n",
      "\n",
      "function:太干了，不知道是不是假的\n",
      "\n",
      "apprence:产品颜色：颜色正，和大只一样\n",
      "\n",
      "apprence:看上去还不错\n",
      "\n",
      "apprence:不错，很好看\n",
      "\n",
      "service:打开后口红上方有人为损坏，应该是盖盖子时候伤到的，因为口红盖子内没有口红损坏的残留物，给客服说了以后给我反了十元的补贴，希望以后这些问题能改善吧\n",
      "\n",
      "function:可以\n",
      "\n"
     ]
    }
   ],
   "source": [
    "class_dict=[\n",
    "    lambda x:f\"apprence:{x}\\n\",\n",
    "    lambda x:f\"function:{x}\\n\",\n",
    "    lambda x:f\"service:{x}\\n\",\n",
    "    ]\n",
    "comments=raw_sample[['评论内容']].values\n",
    "for paragraph in comments:\n",
    "    sentences=partten.findall(paragraph[0])\n",
    "    token=tokenizer(\n",
    "        sentences,\n",
    "        max_length=100,\n",
    "        add_special_tokens=True,\n",
    "        truncation=True,\n",
    "        padding=True,return_tensors=\"pt\"\n",
    "    )\n",
    "    token.to(device)\n",
    "    output=model(\n",
    "        **token\n",
    "        )\n",
    "    for sentence,kind in zip(sentences,output[0].argmax(dim=1).cpu()):\n",
    "        print(class_dict[kind](sentence))"
   ]
  },
  {
   "cell_type": "code",
   "execution_count": 12,
   "metadata": {},
   "outputs": [],
   "source": [
    "import joblib\n",
    "appearance_classifier = joblib.load('module/naive_bayes/multinomialNB/appearance_classifier.full')\n",
    "function_classifier = joblib.load('module/naive_bayes/multinomialNB/function_classifier.full')\n",
    "service_classifier = joblib.load('module/naive_bayes/multinomialNB/service_classifier.full')\n",
    "appearance_vector2 = joblib.load('module/naive_bayes/multinomialNB/appearance_vector2.full')\n",
    "function_vector2 = joblib.load('module/naive_bayes/multinomialNB/function_vector2.full')\n",
    "service_vector2 = joblib.load('module/naive_bayes/multinomialNB/service_vector2.full')"
   ]
  },
  {
   "cell_type": "code",
   "execution_count": 13,
   "metadata": {},
   "outputs": [
    {
     "name": "stderr",
     "output_type": "stream",
     "text": [
      "Building prefix dict from the default dictionary ...\n",
      "Loading model from cache /tmp/jieba.cache\n",
      "Loading model cost 0.653 seconds.\n",
      "Prefix dict has been built successfully.\n",
      "W1231 16:48:56.394050 167199 init.cc:157] AVX is available, Please re-compile on local machine\n",
      "Paddle enabled successfully......\n"
     ]
    }
   ],
   "source": [
    "from tools import *\n",
    "bayes_scorer = [\n",
    "    [appearance_classifier,appearance_vector2],\n",
    "    [function_classifier,function_vector2],\n",
    "    [service_classifier,service_vector2]\n",
    "]\n",
    "stopwords_list=get_stopwords_list('cn_stopwords.txt')\n"
   ]
  },
  {
   "cell_type": "code",
   "execution_count": 21,
   "metadata": {},
   "outputs": [],
   "source": [
    "def categorize_score(frame:DataFrame):\n",
    "    frame['SVM向量逆——美学']=''\n",
    "    frame['SVM向量逆——功能']=''\n",
    "    frame['SVM向量逆——维度']=''\n",
    "    for i, paragraph in enumerate(frame[[\"评论内容\"]].values): # 又是一段脑血栓代码\n",
    "        if type(paragraph[0]) != str:\n",
    "            continue\n",
    "        sentences = partten.findall(paragraph[0])\n",
    "        token = tokenizer(\n",
    "            sentences,\n",
    "            max_length=100,\n",
    "            add_special_tokens=True,\n",
    "            truncation=True,\n",
    "            padding=True,\n",
    "            return_tensors=\"pt\",\n",
    "        )\n",
    "        token.to(device)\n",
    "        output = model(**token)\n",
    "        categorized_sentences = [[], [], []]\n",
    "        for sentence, kind in zip(sentences, output[0].argmax(dim=1).cpu()):\n",
    "            categorized_sentences[kind].append(sentence)\n",
    "        for colnmn, (class_list, scorer) in enumerate(zip(categorized_sentences, bayes_scorer)):\n",
    "            if len(class_list) > 0:\n",
    "                classifier, vector = scorer\n",
    "                vector_ = vector.transform(\n",
    "                    [seg_sentence(\"\".join(class_list), stopwords_list)]\n",
    "                )\n",
    "                score = classifier.predict(vector_)\n",
    "                frame.loc[i,frame.columns[5+colnmn]]=score\n",
    "                frame.loc[i,frame.columns[8+colnmn]]=','.join(vector.inverse_transform(vector_)[0])"
   ]
  },
  {
   "cell_type": "code",
   "execution_count": 22,
   "metadata": {},
   "outputs": [],
   "source": [
    "categorize_score(raw_data)"
   ]
  },
  {
   "cell_type": "code",
   "execution_count": 23,
   "metadata": {},
   "outputs": [],
   "source": [
    "raw_data.to_excel('data/final.xlsx', engine='xlsxwriter', index=False, freeze_panes=[1,0])"
   ]
  },
  {
   "cell_type": "code",
   "execution_count": 24,
   "metadata": {},
   "outputs": [
    {
     "data": {
      "text/html": [
       "<div>\n",
       "<style scoped>\n",
       "    .dataframe tbody tr th:only-of-type {\n",
       "        vertical-align: middle;\n",
       "    }\n",
       "\n",
       "    .dataframe tbody tr th {\n",
       "        vertical-align: top;\n",
       "    }\n",
       "\n",
       "    .dataframe thead th {\n",
       "        text-align: right;\n",
       "    }\n",
       "</style>\n",
       "<table border=\"1\" class=\"dataframe\">\n",
       "  <thead>\n",
       "    <tr style=\"text-align: right;\">\n",
       "      <th></th>\n",
       "      <th>productId</th>\n",
       "      <th>活动时间</th>\n",
       "      <th>评论时间</th>\n",
       "      <th>评论内容</th>\n",
       "      <th>类型</th>\n",
       "      <th>美学维度</th>\n",
       "      <th>功能维度</th>\n",
       "      <th>服务维度</th>\n",
       "      <th>SVM向量逆——美学</th>\n",
       "      <th>SVM向量逆——功能</th>\n",
       "      <th>SVM向量逆——维度</th>\n",
       "    </tr>\n",
       "  </thead>\n",
       "  <tbody>\n",
       "    <tr>\n",
       "      <th>0</th>\n",
       "      <td>62383970544</td>\n",
       "      <td>2020-07-09 22:37:19</td>\n",
       "      <td>2020-04-14 20:30:43</td>\n",
       "      <td>滋润效果：效果很好用原来很好看</td>\n",
       "      <td>活动前</td>\n",
       "      <td>NaN</td>\n",
       "      <td>-1.0</td>\n",
       "      <td>NaN</td>\n",
       "      <td></td>\n",
       "      <td>好看,效果,效果 效果,滋润,滋润 效果</td>\n",
       "      <td></td>\n",
       "    </tr>\n",
       "    <tr>\n",
       "      <th>1</th>\n",
       "      <td>62383970544</td>\n",
       "      <td>2020-07-09 22:37:19</td>\n",
       "      <td>2020-07-06 18:04:48</td>\n",
       "      <td>颜色太深了，不太适合我，送人了</td>\n",
       "      <td>活动前</td>\n",
       "      <td>1.0</td>\n",
       "      <td>NaN</td>\n",
       "      <td>NaN</td>\n",
       "      <td>适合,颜色</td>\n",
       "      <td></td>\n",
       "      <td></td>\n",
       "    </tr>\n",
       "    <tr>\n",
       "      <th>2</th>\n",
       "      <td>62383970544</td>\n",
       "      <td>2020-07-09 22:37:19</td>\n",
       "      <td>2020-05-19 14:09:16</td>\n",
       "      <td>产品质感：老婆特喜欢，这个颜色适合很多性格的女人，方便携带，作为携带补妆最合适。</td>\n",
       "      <td>活动前</td>\n",
       "      <td>NaN</td>\n",
       "      <td>1.0</td>\n",
       "      <td>NaN</td>\n",
       "      <td></td>\n",
       "      <td>产品,产品 质感,喜欢,方便,最合适,老婆,质感,适合,颜色</td>\n",
       "      <td></td>\n",
       "    </tr>\n",
       "    <tr>\n",
       "      <th>3</th>\n",
       "      <td>62383970544</td>\n",
       "      <td>2020-07-09 22:37:19</td>\n",
       "      <td>2020-06-16 16:54:53</td>\n",
       "      <td>宝贝q收到就迫不及待打开，包装很安全，还送了钥匙链，礼品盒，礼品袋，卖家考虑的很周全，送人很...</td>\n",
       "      <td>活动前</td>\n",
       "      <td>NaN</td>\n",
       "      <td>-1.0</td>\n",
       "      <td>1.0</td>\n",
       "      <td></td>\n",
       "      <td>不用,不用 担心,个人,口红,品牌,喜欢,够用,宝宝,打开,担心,比较满意,用不完,颜色,香味</td>\n",
       "      <td>包装,包装 安全,卖家,安全,宝贝,宝贝 收到,很大,打开,打开 包装,收到,考虑</td>\n",
       "    </tr>\n",
       "    <tr>\n",
       "      <th>4</th>\n",
       "      <td>62383970544</td>\n",
       "      <td>2020-07-09 22:37:19</td>\n",
       "      <td>2020-05-26 15:16:10</td>\n",
       "      <td>太干了，不知道是不是假的</td>\n",
       "      <td>活动前</td>\n",
       "      <td>NaN</td>\n",
       "      <td>-1.0</td>\n",
       "      <td>NaN</td>\n",
       "      <td></td>\n",
       "      <td>是不是,知道,知道 是不是</td>\n",
       "      <td></td>\n",
       "    </tr>\n",
       "    <tr>\n",
       "      <th>...</th>\n",
       "      <td>...</td>\n",
       "      <td>...</td>\n",
       "      <td>...</td>\n",
       "      <td>...</td>\n",
       "      <td>...</td>\n",
       "      <td>...</td>\n",
       "      <td>...</td>\n",
       "      <td>...</td>\n",
       "      <td>...</td>\n",
       "      <td>...</td>\n",
       "      <td>...</td>\n",
       "    </tr>\n",
       "    <tr>\n",
       "      <th>169636</th>\n",
       "      <td>100011927198</td>\n",
       "      <td>2020-04-27 17:03:52</td>\n",
       "      <td>2020-05-09 16:05:11</td>\n",
       "      <td>很好用，颜色美，大气，显白</td>\n",
       "      <td>活动后</td>\n",
       "      <td>1.0</td>\n",
       "      <td>NaN</td>\n",
       "      <td>NaN</td>\n",
       "      <td>大气,显白,颜色,颜色 大气</td>\n",
       "      <td></td>\n",
       "      <td></td>\n",
       "    </tr>\n",
       "    <tr>\n",
       "      <th>169637</th>\n",
       "      <td>100011927198</td>\n",
       "      <td>2020-04-27 17:03:52</td>\n",
       "      <td>2020-05-01 01:43:00</td>\n",
       "      <td>准备送女友的，但是外表看就明显的做工瑕疵</td>\n",
       "      <td>活动后</td>\n",
       "      <td>-1.0</td>\n",
       "      <td>NaN</td>\n",
       "      <td>NaN</td>\n",
       "      <td>做工,外表,明显,瑕疵</td>\n",
       "      <td></td>\n",
       "      <td></td>\n",
       "    </tr>\n",
       "    <tr>\n",
       "      <th>169638</th>\n",
       "      <td>100011927198</td>\n",
       "      <td>2020-04-27 17:03:52</td>\n",
       "      <td>2020-06-03 12:46:25</td>\n",
       "      <td>宝贝收到！物流速度真的很快。感谢京东无微不致的服务！</td>\n",
       "      <td>活动后</td>\n",
       "      <td>NaN</td>\n",
       "      <td>NaN</td>\n",
       "      <td>1.0</td>\n",
       "      <td></td>\n",
       "      <td></td>\n",
       "      <td>京东,京东 服务,宝贝,宝贝 收到,感谢,收到,收到 物流,服务,物流,物流 速度,速度</td>\n",
       "    </tr>\n",
       "    <tr>\n",
       "      <th>169639</th>\n",
       "      <td>100011927198</td>\n",
       "      <td>2020-04-27 17:03:52</td>\n",
       "      <td>2020-05-30 18:32:27</td>\n",
       "      <td>产品质感：很好，润润的，有巧克力的味道</td>\n",
       "      <td>活动后</td>\n",
       "      <td>NaN</td>\n",
       "      <td>-1.0</td>\n",
       "      <td>NaN</td>\n",
       "      <td></td>\n",
       "      <td>产品,产品 质感,味道,巧克力,巧克力 味道,润润,质感</td>\n",
       "      <td></td>\n",
       "    </tr>\n",
       "    <tr>\n",
       "      <th>169640</th>\n",
       "      <td>100011927198</td>\n",
       "      <td>2020-04-27 17:03:52</td>\n",
       "      <td>2020-06-01 00:03:35</td>\n",
       "      <td>产品质感：包装真的好像假货啊啊啊啊啊虽然99两个但是也不能这么塑料 这么廉价吧!外壳还有刮擦...</td>\n",
       "      <td>活动后</td>\n",
       "      <td>-1.0</td>\n",
       "      <td>-1.0</td>\n",
       "      <td>NaN</td>\n",
       "      <td>图片,根本,没有,高级</td>\n",
       "      <td>不能,产品,产品 质感,假货,包装,吃饭,啊啊啊,塑料,外壳,好像,廉价,持久,持久 效果,...</td>\n",
       "      <td></td>\n",
       "    </tr>\n",
       "  </tbody>\n",
       "</table>\n",
       "<p>169641 rows × 11 columns</p>\n",
       "</div>"
      ],
      "text/plain": [
       "           productId                活动时间                 评论时间  \\\n",
       "0        62383970544 2020-07-09 22:37:19  2020-04-14 20:30:43   \n",
       "1        62383970544 2020-07-09 22:37:19  2020-07-06 18:04:48   \n",
       "2        62383970544 2020-07-09 22:37:19  2020-05-19 14:09:16   \n",
       "3        62383970544 2020-07-09 22:37:19  2020-06-16 16:54:53   \n",
       "4        62383970544 2020-07-09 22:37:19  2020-05-26 15:16:10   \n",
       "...              ...                 ...                  ...   \n",
       "169636  100011927198 2020-04-27 17:03:52  2020-05-09 16:05:11   \n",
       "169637  100011927198 2020-04-27 17:03:52  2020-05-01 01:43:00   \n",
       "169638  100011927198 2020-04-27 17:03:52  2020-06-03 12:46:25   \n",
       "169639  100011927198 2020-04-27 17:03:52  2020-05-30 18:32:27   \n",
       "169640  100011927198 2020-04-27 17:03:52  2020-06-01 00:03:35   \n",
       "\n",
       "                                                     评论内容   类型  美学维度  功能维度  \\\n",
       "0                                         滋润效果：效果很好用原来很好看  活动前   NaN  -1.0   \n",
       "1                                         颜色太深了，不太适合我，送人了  活动前   1.0   NaN   \n",
       "2                产品质感：老婆特喜欢，这个颜色适合很多性格的女人，方便携带，作为携带补妆最合适。  活动前   NaN   1.0   \n",
       "3       宝贝q收到就迫不及待打开，包装很安全，还送了钥匙链，礼品盒，礼品袋，卖家考虑的很周全，送人很...  活动前   NaN  -1.0   \n",
       "4                                            太干了，不知道是不是假的  活动前   NaN  -1.0   \n",
       "...                                                   ...  ...   ...   ...   \n",
       "169636                                      很好用，颜色美，大气，显白  活动后   1.0   NaN   \n",
       "169637                               准备送女友的，但是外表看就明显的做工瑕疵  活动后  -1.0   NaN   \n",
       "169638                         宝贝收到！物流速度真的很快。感谢京东无微不致的服务！  活动后   NaN   NaN   \n",
       "169639                                产品质感：很好，润润的，有巧克力的味道  活动后   NaN  -1.0   \n",
       "169640  产品质感：包装真的好像假货啊啊啊啊啊虽然99两个但是也不能这么塑料 这么廉价吧!外壳还有刮擦...  活动后  -1.0  -1.0   \n",
       "\n",
       "        服务维度      SVM向量逆——美学  \\\n",
       "0        NaN                   \n",
       "1        NaN           适合,颜色   \n",
       "2        NaN                   \n",
       "3        1.0                   \n",
       "4        NaN                   \n",
       "...      ...             ...   \n",
       "169636   NaN  大气,显白,颜色,颜色 大气   \n",
       "169637   NaN     做工,外表,明显,瑕疵   \n",
       "169638   1.0                   \n",
       "169639   NaN                   \n",
       "169640   NaN     图片,根本,没有,高级   \n",
       "\n",
       "                                               SVM向量逆——功能  \\\n",
       "0                                    好看,效果,效果 效果,滋润,滋润 效果   \n",
       "1                                                           \n",
       "2                          产品,产品 质感,喜欢,方便,最合适,老婆,质感,适合,颜色   \n",
       "3         不用,不用 担心,个人,口红,品牌,喜欢,够用,宝宝,打开,担心,比较满意,用不完,颜色,香味   \n",
       "4                                           是不是,知道,知道 是不是   \n",
       "...                                                   ...   \n",
       "169636                                                      \n",
       "169637                                                      \n",
       "169638                                                      \n",
       "169639                       产品,产品 质感,味道,巧克力,巧克力 味道,润润,质感   \n",
       "169640  不能,产品,产品 质感,假货,包装,吃饭,啊啊啊,塑料,外壳,好像,廉价,持久,持久 效果,...   \n",
       "\n",
       "                                          SVM向量逆——维度  \n",
       "0                                                     \n",
       "1                                                     \n",
       "2                                                     \n",
       "3          包装,包装 安全,卖家,安全,宝贝,宝贝 收到,很大,打开,打开 包装,收到,考虑  \n",
       "4                                                     \n",
       "...                                              ...  \n",
       "169636                                                \n",
       "169637                                                \n",
       "169638  京东,京东 服务,宝贝,宝贝 收到,感谢,收到,收到 物流,服务,物流,物流 速度,速度  \n",
       "169639                                                \n",
       "169640                                                \n",
       "\n",
       "[169641 rows x 11 columns]"
      ]
     },
     "execution_count": 24,
     "metadata": {},
     "output_type": "execute_result"
    }
   ],
   "source": [
    "raw_data"
   ]
  }
 ],
 "metadata": {
  "interpreter": {
   "hash": "fb7ca23b309b0bfc3e0f404e8ec6274ee7dde27e650b28c86de71994defd2d3a"
  },
  "kernelspec": {
   "display_name": "Python 3.7.0 64-bit ('py3.7': conda)",
   "name": "python3"
  },
  "language_info": {
   "codemirror_mode": {
    "name": "ipython",
    "version": 3
   },
   "file_extension": ".py",
   "mimetype": "text/x-python",
   "name": "python",
   "nbconvert_exporter": "python",
   "pygments_lexer": "ipython3",
   "version": "3.7.0"
  },
  "orig_nbformat": 4
 },
 "nbformat": 4,
 "nbformat_minor": 2
}
