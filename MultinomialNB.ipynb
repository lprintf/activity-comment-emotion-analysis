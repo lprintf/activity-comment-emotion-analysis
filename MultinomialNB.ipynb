{
 "cells": [
  {
   "cell_type": "code",
   "execution_count": 1,
   "metadata": {},
   "outputs": [
    {
     "name": "stderr",
     "output_type": "stream",
     "text": [
      "Building prefix dict from the default dictionary ...\n",
      "Loading model from cache /tmp/jieba.cache\n",
      "Loading model cost 2.509 seconds.\n",
      "Prefix dict has been built successfully.\n",
      "W1230 21:29:56.272248 164987 init.cc:157] AVX is available, Please re-compile on local machine\n",
      "Paddle enabled successfully......\n"
     ]
    }
   ],
   "source": [
    "from tools import *"
   ]
  },
  {
   "cell_type": "code",
   "execution_count": 2,
   "metadata": {},
   "outputs": [],
   "source": [
    "rawdata_path='./data/for_modeling.xlsx'\n",
    "with open(rawdata_path, 'r',encoding='ISO-8859-1') as fp:\n",
    "    sheets=pandas.read_excel(rawdata_path,sheet_name=None,index_col=0)\n",
    "\n",
    "sheet1=sheets['Sheet1'] # 表格一，好评 2017*14\n",
    "sheet2=sheets['Sheet2'] # 表格二，差评 2084*14\n"
   ]
  },
  {
   "cell_type": "code",
   "execution_count": 3,
   "metadata": {},
   "outputs": [],
   "source": [
    "sheet=sheet1.append(sheet2) # 合并好评差评 4101*14"
   ]
  },
  {
   "cell_type": "code",
   "execution_count": 4,
   "metadata": {},
   "outputs": [],
   "source": [
    "appearance, function, service = split_dimentions(\n",
    "    sheet\n",
    ")"
   ]
  },
  {
   "cell_type": "code",
   "execution_count": 5,
   "metadata": {},
   "outputs": [],
   "source": [
    "stopwords_list=get_stopwords_list('cn_stopwords.txt')"
   ]
  },
  {
   "cell_type": "code",
   "execution_count": 6,
   "metadata": {},
   "outputs": [],
   "source": [
    "appearance_x_y=generate_train_data(appearance,stopwords_list)\n",
    "function_x_y=generate_train_data(function,stopwords_list)\n",
    "service_x_y=generate_train_data(service,stopwords_list)\n"
   ]
  },
  {
   "cell_type": "code",
   "execution_count": 7,
   "metadata": {},
   "outputs": [],
   "source": [
    "# 划分训练集测试集\n",
    "from sklearn.model_selection import train_test_split\n",
    "test_size=0.1\n",
    "appearance_train_x,appearance_test_x,appearance_train_y,appearance_test_y=train_test_split(*appearance_x_y,test_size=test_size)\n",
    "function_train_x,function_test_x,function_train_y,function_test_y=train_test_split(*function_x_y,test_size=test_size)\n",
    "service_train_x,service_test_x,service_train_y,service_test_y=train_test_split(*service_x_y,test_size=test_size)"
   ]
  },
  {
   "cell_type": "code",
   "execution_count": 8,
   "metadata": {},
   "outputs": [],
   "source": [
    "from sklearn.feature_extraction.text import CountVectorizer\n",
    "appearance_vector1 = CountVectorizer() # 一元词袋\n",
    "function_vector1 = CountVectorizer() # 一元词袋\n",
    "service_vector1 = CountVectorizer() # 一元词袋\n",
    "appearance_vector2 = CountVectorizer(ngram_range=[1,2]) # 二元词袋\n",
    "function_vector2 = CountVectorizer(ngram_range=[1,2]) # 二元词袋\n",
    "service_vector2 = CountVectorizer(ngram_range=[1,2]) # 二元词袋"
   ]
  },
  {
   "cell_type": "code",
   "execution_count": 9,
   "metadata": {},
   "outputs": [],
   "source": [
    "appearance_vector=appearance_vector2\n",
    "function_vector=function_vector2\n",
    "service_vector=service_vector2\n"
   ]
  },
  {
   "cell_type": "code",
   "execution_count": 10,
   "metadata": {},
   "outputs": [],
   "source": [
    "# 标准化(获得 稀疏句-词关系矩阵)\n",
    "appearance_train_n_x=appearance_vector.fit_transform(appearance_train_x)\n",
    "function_train_n_x=function_vector.fit_transform(function_train_x)\n",
    "service_train_n_x=service_vector.fit_transform(service_train_x)\n",
    "\n",
    "appearance_test_n_x=appearance_vector.transform(appearance_test_x)\n",
    "function_test_n_x=function_vector.transform(function_test_x)\n",
    "service_test_n_x=service_vector.transform(service_test_x)\n"
   ]
  },
  {
   "cell_type": "code",
   "execution_count": 41,
   "metadata": {},
   "outputs": [
    {
     "data": {
      "text/plain": [
       "<1071x538 sparse matrix of type '<class 'numpy.int64'>'\n",
       "\twith 4063 stored elements in Compressed Sparse Row format>"
      ]
     },
     "execution_count": 41,
     "metadata": {},
     "output_type": "execute_result"
    }
   ],
   "source": [
    "appearance_vector1.fit_transform(appearance_train_x)\n"
   ]
  },
  {
   "cell_type": "code",
   "execution_count": 46,
   "metadata": {},
   "outputs": [],
   "source": [
    "vector_sample = appearance_vector1.transform([seg_sentence(\"这鸟真漂亮\",stopwords_list)])"
   ]
  },
  {
   "cell_type": "code",
   "execution_count": 62,
   "metadata": {},
   "outputs": [
    {
     "data": {
      "text/plain": [
       "array([345], dtype=int32)"
      ]
     },
     "execution_count": 62,
     "metadata": {},
     "output_type": "execute_result"
    }
   ],
   "source": [
    "vector_sample.indices"
   ]
  },
  {
   "cell_type": "code",
   "execution_count": 64,
   "metadata": {},
   "outputs": [
    {
     "data": {
      "text/plain": [
       "[array(['漂亮'], dtype='<U5')]"
      ]
     },
     "execution_count": 64,
     "metadata": {},
     "output_type": "execute_result"
    }
   ],
   "source": [
    "appearance_vector1.inverse_transform(vector_sample)"
   ]
  },
  {
   "cell_type": "code",
   "execution_count": 11,
   "metadata": {},
   "outputs": [],
   "source": [
    "# 模型训练\n",
    "from sklearn.naive_bayes import MultinomialNB\n",
    "appearance_classifier=MultinomialNB(alpha=0.1).fit(appearance_train_n_x,appearance_train_y)\n",
    "function_classifier=MultinomialNB(alpha=0.01).fit(function_train_n_x,function_train_y)\n",
    "service_classifier=MultinomialNB(alpha=0.01).fit(service_train_n_x,service_train_y)\n"
   ]
  },
  {
   "cell_type": "code",
   "execution_count": 12,
   "metadata": {},
   "outputs": [],
   "source": [
    "appearance_train_pre=appearance_classifier.predict(appearance_train_n_x)\n",
    "function_train_pre=function_classifier.predict(function_train_n_x)\n",
    "service_train_pre=service_classifier.predict(service_train_n_x)"
   ]
  },
  {
   "cell_type": "code",
   "execution_count": 40,
   "metadata": {},
   "outputs": [
    {
     "data": {
      "text/plain": [
       "array([ 1.,  1., -1.])"
      ]
     },
     "execution_count": 40,
     "metadata": {},
     "output_type": "execute_result"
    }
   ],
   "source": [
    "appearance_classifier.predict(\n",
    "    appearance_vector2.transform([seg_sentence(x,stopwords_list)for x in [\"这鸟真漂亮\", \"不丑\", \"难看\"]])\n",
    "    )"
   ]
  },
  {
   "cell_type": "code",
   "execution_count": 13,
   "metadata": {},
   "outputs": [],
   "source": [
    "from sklearn import metrics"
   ]
  },
  {
   "cell_type": "code",
   "execution_count": 14,
   "metadata": {},
   "outputs": [
    {
     "name": "stdout",
     "output_type": "stream",
     "text": [
      "appearance 训练集准确率： 0.9710550887021475\n",
      "function 训练集准确率： 0.9725\n",
      "service 训练集准确率： 0.9744552967693464\n"
     ]
    }
   ],
   "source": [
    "print('appearance 训练集准确率：',metrics.f1_score(appearance_train_pre,appearance_train_y,average='micro'))\n",
    "print('function 训练集准确率：',metrics.f1_score(function_train_pre,function_train_y,average='micro'))\n",
    "print('service 训练集准确率：',metrics.f1_score(service_train_pre,service_train_y,average='micro'))"
   ]
  },
  {
   "cell_type": "code",
   "execution_count": 15,
   "metadata": {},
   "outputs": [],
   "source": [
    "appearance_test_pre=appearance_classifier.predict(appearance_test_n_x)\n",
    "function_test_pre=function_classifier.predict(function_test_n_x)\n",
    "service_test_pre=service_classifier.predict(service_test_n_x)"
   ]
  },
  {
   "cell_type": "code",
   "execution_count": 17,
   "metadata": {},
   "outputs": [
    {
     "data": {
      "text/plain": [
       "['module/naive_bayes/multinomialNB/service_classifier.full']"
      ]
     },
     "execution_count": 17,
     "metadata": {},
     "output_type": "execute_result"
    }
   ],
   "source": [
    "import joblib\n",
    "joblib.dump(appearance_classifier,'module/naive_bayes/multinomialNB/appearance_classifier.full')\n",
    "joblib.dump(function_classifier,'module/naive_bayes/multinomialNB/function_classifier.full')\n",
    "joblib.dump(service_classifier,'module/naive_bayes/multinomialNB/service_classifier.full')"
   ]
  },
  {
   "cell_type": "code",
   "execution_count": 29,
   "metadata": {},
   "outputs": [
    {
     "data": {
      "text/plain": [
       "['module/naive_bayes/multinomialNB/service_vector2.full']"
      ]
     },
     "execution_count": 29,
     "metadata": {},
     "output_type": "execute_result"
    }
   ],
   "source": [
    "\n",
    "joblib.dump(appearance_vector2,'module/naive_bayes/multinomialNB/appearance_vector2.full')\n",
    "joblib.dump(function_vector2,'module/naive_bayes/multinomialNB/function_vector2.full')\n",
    "joblib.dump(service_vector2,'module/naive_bayes/multinomialNB/service_vector2.full')"
   ]
  },
  {
   "cell_type": "code",
   "execution_count": 18,
   "metadata": {},
   "outputs": [
    {
     "name": "stdout",
     "output_type": "stream",
     "text": [
      "appearance 测试集准确率： 0.9833333333333333\n",
      "function 测试集准确率： 0.8910256410256411\n",
      "service 测试集准确率： 0.9121621621621622\n"
     ]
    }
   ],
   "source": [
    "print('appearance 测试集准确率：',metrics.f1_score(appearance_test_pre,appearance_test_y,average='micro'))\n",
    "print('function 测试集准确率：',metrics.f1_score(function_test_pre,function_test_y,average='micro'))\n",
    "print('service 测试集准确率：',metrics.f1_score(service_test_pre,service_test_y,average='micro'))"
   ]
  },
  {
   "cell_type": "code",
   "execution_count": 19,
   "metadata": {},
   "outputs": [
    {
     "data": {
      "text/plain": [
       "((120, 2125), (312, 15553), (148, 13063))"
      ]
     },
     "execution_count": 19,
     "metadata": {},
     "output_type": "execute_result"
    }
   ],
   "source": [
    "appearance_test_n_x.shape,function_test_n_x.shape,service_test_n_x.shape,"
   ]
  },
  {
   "cell_type": "code",
   "execution_count": 20,
   "metadata": {},
   "outputs": [
    {
     "data": {
      "text/plain": [
       "((1071, 2125), (2800, 15553), (1331, 13063))"
      ]
     },
     "execution_count": 20,
     "metadata": {},
     "output_type": "execute_result"
    }
   ],
   "source": [
    "appearance_train_n_x.shape,function_train_n_x.shape,service_train_n_x.shape,"
   ]
  },
  {
   "cell_type": "code",
   "execution_count": null,
   "metadata": {},
   "outputs": [],
   "source": []
  }
 ],
 "metadata": {
  "interpreter": {
   "hash": "0c544d681126d804d1243b64729a47934a3cbc7bce72a0ec0a94992403418035"
  },
  "kernelspec": {
   "display_name": "Python 3.7.11 64-bit ('python3.7': conda)",
   "language": "python",
   "name": "python3"
  },
  "language_info": {
   "codemirror_mode": {
    "name": "ipython",
    "version": 3
   },
   "file_extension": ".py",
   "mimetype": "text/x-python",
   "name": "python",
   "nbconvert_exporter": "python",
   "pygments_lexer": "ipython3",
   "version": "3.7.11"
  },
  "orig_nbformat": 4
 },
 "nbformat": 4,
 "nbformat_minor": 2
}
